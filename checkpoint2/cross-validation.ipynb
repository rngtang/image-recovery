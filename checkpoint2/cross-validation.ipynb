{
 "cells": [
  {
   "cell_type": "code",
   "execution_count": 1,
   "metadata": {},
   "outputs": [],
   "source": [
    "import matplotlib.pyplot as plt\n",
    "import numpy as np\n",
    "from PIL import Image\n",
    "from sklearn.linear_model import Lasso\n",
    "from sklearn.metrics import mean_squared_error"
   ]
  },
  {
   "cell_type": "code",
   "execution_count": 2,
   "metadata": {},
   "outputs": [],
   "source": [
    "# Functions to compute alpha and beta\n",
    "def get_alpha(u, P):\n",
    "    if u == 1:\n",
    "        return np.sqrt(1/P)\n",
    "    else:\n",
    "        return np.sqrt(2/P)\n",
    "\n",
    "def get_beta(v, Q):\n",
    "    if v == 1:\n",
    "        return np.sqrt(1/Q)\n",
    "    else:\n",
    "        return np.sqrt(2/Q)"
   ]
  },
  {
   "cell_type": "code",
   "execution_count": 3,
   "metadata": {},
   "outputs": [],
   "source": [
    "# Function to get the basis chip\n",
    "def get_basis_chip(u, v, P=8, Q=8):\n",
    "    \n",
    "    # Compute alpha and beta\n",
    "    a_u = get_alpha(u, P)\n",
    "    b_v = get_beta(v, Q)\n",
    "    \n",
    "    # Create empty basis chip\n",
    "    basis_chip = np.zeros((P, Q))\n",
    "    \n",
    "    # Calculate the basis chip\n",
    "    for x in range(1, P+1):\n",
    "        for y in range(1, Q+1):\n",
    "            basis_chip[y-1, x-1] = a_u * b_v * np.cos(np.pi * (2 * x - 1) * (u - 1) / (2 * P)) * np.cos(np.pi * (2 * y - 1) * (v - 1) / (2 * Q))\n",
    "    \n",
    "    # Return the basis chip with the right orientation\n",
    "    return basis_chip"
   ]
  },
  {
   "cell_type": "code",
   "execution_count": 4,
   "metadata": {},
   "outputs": [],
   "source": [
    "# Function to calculate convert basis chip into basis vector\n",
    "def get_basis_vector_matrix(K=8):\n",
    "    num_basis_vectors = K**2\n",
    "    \n",
    "    # Initialize the 64x64 basis vector matrix\n",
    "    basis_vector_matrix = np.zeros((num_basis_vectors, num_basis_vectors))\n",
    "    \n",
    "    # Get all basis chips and rasterize them into column vectors\n",
    "    index = 0\n",
    "    for u in range(1, K + 1):\n",
    "        for v in range(1, K + 1):\n",
    "            # Get the basis chip\n",
    "            basis_chip = get_basis_chip(u, v, P=K, Q=K)\n",
    "            \n",
    "            # Rasterize the basis chip into a column vector\n",
    "            basis_vector_matrix[:, index] = basis_chip.flatten(order='F')\n",
    "            index += 1\n",
    "    \n",
    "    return basis_vector_matrix"
   ]
  },
  {
   "cell_type": "code",
   "execution_count": 5,
   "metadata": {},
   "outputs": [],
   "source": [
    "# Generate the 8x8 corrupted image block (chip)\n",
    "def generate_corrupted(S=30, block_size=8, block=None):\n",
    "    # Generate the mask\n",
    "    total_pixels = block_size * block_size\n",
    "    indices = np.random.choice(total_pixels, S, replace=False)\n",
    "    \n",
    "    # Normalize the grayscale block to the range 0–255\n",
    "    block_normalized = (block - block.min()) / (block.max() - block.min()) * 255\n",
    "    block_normalized = block_normalized.astype(np.uint8)\n",
    "\n",
    "    # Generate a mask and set missing pixel intensities to NaN\n",
    "    mask = np.zeros((block_size, block_size), dtype=bool)\n",
    "    for index in indices:\n",
    "        row, col = divmod(index, block_size)\n",
    "        mask[row, col] = True\n",
    "    \n",
    "    # Sets corrupted pixels to NaN\n",
    "    nan_block = block.astype(float)\n",
    "    nan_block[~mask] = np.nan\n",
    "    \n",
    "    return nan_block, mask\n",
    "    "
   ]
  },
  {
   "cell_type": "code",
   "execution_count": 6,
   "metadata": {},
   "outputs": [],
   "source": [
    "def display_top_10_basis_chips(kappa_est):\n",
    "    # Get indices of the 10 largest magnitude weights\n",
    "    top_10_indices = np.argsort(np.abs(kappa_est))[-10:]\n",
    "    top_10_weights = kappa_est[top_10_indices]\n",
    "\n",
    "    # Determine u and v values\n",
    "    u_values = top_10_indices // 8 + 1\n",
    "    v_values = top_10_indices % 8 + 1\n",
    "\n",
    "    # Plot the 10 basis chips\n",
    "    fig, axes = plt.subplots(2, 5, figsize=(15, 5))\n",
    "    fig.suptitle(\"Top 10 Basis Chips with Highest Weights\")\n",
    "\n",
    "    for i, ax in enumerate(axes.flatten()):\n",
    "        u, v, weight = u_values[i], v_values[i], top_10_weights[i]\n",
    "        \n",
    "        basis_chip = get_basis_chip(u, v, P=8, Q=8)\n",
    "\n",
    "        ax.imshow(basis_chip, cmap=\"gray\")\n",
    "        ax.set_title(f\"(u, v) = ({u}, {v}), w={weight:.3f}\")\n",
    "        ax.axis(\"off\")\n",
    "\n",
    "    plt.show()"
   ]
  },
  {
   "cell_type": "code",
   "execution_count": 7,
   "metadata": {},
   "outputs": [],
   "source": [
    "# Load image\n",
    "image_path = '../data/fishing_boat.bmp'\n",
    "image = Image.open(image_path).convert('L')\n",
    "\n",
    "# Convert the image to a numpy array\n",
    "image_array = np.array(image)"
   ]
  },
  {
   "cell_type": "code",
   "execution_count": 8,
   "metadata": {},
   "outputs": [],
   "source": [
    "# Display the 8x8 block with the top-left pixel at (x, y) = (x*, y*)\n",
    "x_star = 8 * (4-1) + 1\n",
    "y_star = 8 * (2-1) + 1\n",
    "\n",
    "# Get the 8x8 block\n",
    "block_size = 8\n",
    "x_start = x_star - 1\n",
    "y_start = y_star - 1\n",
    "\n",
    "# Get the block end coordinates\n",
    "x_end = min(x_start + block_size, image_array.shape[0])\n",
    "y_end = min(y_start + block_size, image_array.shape[1])\n",
    "\n",
    "# Gets the 8x8 block\n",
    "block = image_array[x_start:x_end, y_start:y_end]"
   ]
  },
  {
   "cell_type": "code",
   "execution_count": 9,
   "metadata": {},
   "outputs": [],
   "source": [
    "# Generate the 8x8 corrupted image block (chip)\n",
    "S = 30\n",
    "corrupted_block, mask = generate_corrupted(S, block_size=8, block=block)"
   ]
  },
  {
   "cell_type": "code",
   "execution_count": null,
   "metadata": {},
   "outputs": [],
   "source": []
  }
 ],
 "metadata": {
  "kernelspec": {
   "display_name": ".venv",
   "language": "python",
   "name": "python3"
  },
  "language_info": {
   "codemirror_mode": {
    "name": "ipython",
    "version": 3
   },
   "file_extension": ".py",
   "mimetype": "text/x-python",
   "name": "python",
   "nbconvert_exporter": "python",
   "pygments_lexer": "ipython3",
   "version": "3.10.12"
  }
 },
 "nbformat": 4,
 "nbformat_minor": 2
}
