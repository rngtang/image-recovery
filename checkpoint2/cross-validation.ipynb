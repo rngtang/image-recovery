{
 "cells": [
  {
   "cell_type": "code",
   "execution_count": 329,
   "metadata": {},
   "outputs": [],
   "source": [
    "import matplotlib.pyplot as plt\n",
    "import numpy as np\n",
    "from PIL import Image\n",
    "from sklearn.linear_model import Lasso\n",
    "from sklearn.metrics import mean_squared_error"
   ]
  },
  {
   "cell_type": "code",
   "execution_count": 330,
   "metadata": {},
   "outputs": [],
   "source": [
    "# Functions to compute alpha and beta\n",
    "def get_alpha(u, P):\n",
    "    if u == 1:\n",
    "        return np.sqrt(1/P)\n",
    "    else:\n",
    "        return np.sqrt(2/P)\n",
    "\n",
    "def get_beta(v, Q):\n",
    "    if v == 1:\n",
    "        return np.sqrt(1/Q)\n",
    "    else:\n",
    "        return np.sqrt(2/Q)"
   ]
  },
  {
   "cell_type": "code",
   "execution_count": 331,
   "metadata": {},
   "outputs": [],
   "source": [
    "# Function to get the basis chip\n",
    "def get_basis_chip(u, v, P=8, Q=8):\n",
    "    \n",
    "    # Compute alpha and beta\n",
    "    a_u = get_alpha(u, P)\n",
    "    b_v = get_beta(v, Q)\n",
    "    \n",
    "    # Create empty basis chip\n",
    "    basis_chip = np.zeros((P, Q))\n",
    "    \n",
    "    # Calculate the basis chip\n",
    "    for x in range(1, P+1):\n",
    "        for y in range(1, Q+1):\n",
    "            basis_chip[y-1, x-1] = a_u * b_v * np.cos(np.pi * (2 * x - 1) * (u - 1) / (2 * P)) * np.cos(np.pi * (2 * y - 1) * (v - 1) / (2 * Q))\n",
    "    \n",
    "    # Return the basis chip with the right orientation\n",
    "    return basis_chip"
   ]
  },
  {
   "cell_type": "code",
   "execution_count": 332,
   "metadata": {},
   "outputs": [],
   "source": [
    "# Function to calculate convert basis chip into basis vector\n",
    "def get_basis_vector_matrix(K=8):\n",
    "    num_basis_vectors = K**2\n",
    "    \n",
    "    # Initialize the 64x64 basis vector matrix\n",
    "    basis_vector_matrix = np.zeros((num_basis_vectors, num_basis_vectors))\n",
    "    \n",
    "    # Get all basis chips and rasterize them into column vectors\n",
    "    index = 0\n",
    "    for u in range(1, K + 1):\n",
    "        for v in range(1, K + 1):\n",
    "            # Get the basis chip\n",
    "            basis_chip = get_basis_chip(u, v, P=K, Q=K)\n",
    "            \n",
    "            # Rasterize the basis chip into a column vector\n",
    "            basis_vector_matrix[:, index] = basis_chip.flatten(order='F')\n",
    "            index += 1\n",
    "\n",
    "    return basis_vector_matrix"
   ]
  },
  {
   "cell_type": "code",
   "execution_count": 333,
   "metadata": {},
   "outputs": [],
   "source": [
    "# Generate the 8x8 corrupted image block (chip)\n",
    "def generate_corrupted(S=30, block_size=8, block=None):\n",
    "    # Generate the mask\n",
    "    total_pixels = block_size * block_size\n",
    "    indices = np.random.choice(total_pixels, S, replace=False)\n",
    "    \n",
    "    # Normalize the grayscale block to the range 0–255\n",
    "    block_normalized = (block - block.min()) / (block.max() - block.min()) * 255\n",
    "    block_normalized = block_normalized.astype(np.uint8)\n",
    "\n",
    "    # Generate a mask and set missing pixel intensities to NaN\n",
    "    mask = np.zeros((block_size, block_size), dtype=bool)\n",
    "    for index in indices:\n",
    "        row, col = divmod(index, block_size)\n",
    "        mask[row, col] = True\n",
    "    \n",
    "    # Sets corrupted pixels to NaN\n",
    "    nan_block = block.astype(float)\n",
    "    nan_block[~mask] = np.nan\n",
    "    \n",
    "    return nan_block, mask\n",
    "    "
   ]
  },
  {
   "cell_type": "code",
   "execution_count": 334,
   "metadata": {},
   "outputs": [],
   "source": [
    "def display_top_10_basis_chips(kappa_est):\n",
    "    # Get indices of the 10 largest magnitude weights\n",
    "    top_10_indices = np.argsort(np.abs(kappa_est))[-10:]\n",
    "    top_10_weights = kappa_est[top_10_indices]\n",
    "\n",
    "    # Determine u and v values\n",
    "    u_values = top_10_indices // 8 + 1\n",
    "    v_values = top_10_indices % 8 + 1\n",
    "\n",
    "    # Plot the 10 basis chips\n",
    "    fig, axes = plt.subplots(2, 5, figsize=(15, 5))\n",
    "    fig.suptitle(\"Top 10 Basis Chips with Highest Weights\")\n",
    "\n",
    "    for i, ax in enumerate(axes.flatten()):\n",
    "        u, v, weight = u_values[i], v_values[i], top_10_weights[i]\n",
    "        \n",
    "        basis_chip = get_basis_chip(u, v, P=8, Q=8)\n",
    "\n",
    "        ax.imshow(basis_chip, cmap=\"gray\")\n",
    "        ax.set_title(f\"(u, v) = ({u}, {v}), w={weight:.3f}\")\n",
    "        ax.axis(\"off\")\n",
    "\n",
    "    plt.show()"
   ]
  },
  {
   "cell_type": "code",
   "execution_count": 335,
   "metadata": {},
   "outputs": [],
   "source": [
    "def apply_lasso_reconstruction(B, block, mask, alpha):\n",
    "    # Flatten block and mask\n",
    "    C = block.flatten(order='F')\n",
    "    sampling_mask = mask.flatten(order='F')\n",
    "\n",
    "    # Create A and D matrices\n",
    "    D = C[sampling_mask]\n",
    "    A = B[sampling_mask, :]\n",
    "\n",
    "    # Apply LASSO regression\n",
    "    lasso = Lasso(alpha=alpha, fit_intercept=True)\n",
    "    lasso.fit(A, D)\n",
    "    kappa_est = lasso.coef_\n",
    "    intercept = lasso.intercept_\n",
    "\n",
    "    # Reconstruct image chip\n",
    "    C_hat = B @ kappa_est + intercept\n",
    "    C_hat = C_hat.reshape(8, 8, order='F')\n",
    "\n",
    "    return C_hat, kappa_est\n"
   ]
  },
  {
   "cell_type": "code",
   "execution_count": 336,
   "metadata": {},
   "outputs": [],
   "source": [
    "def cross_validation_random(S, mask, corrupted_block, B):\n",
    "    # Parameters for Cross-validation\n",
    "    num_testing = S // 6 # Number of pixels in test set\n",
    "    lambda_values = np.logspace(-7, 2, 11) # Values of λ to test\n",
    "    \n",
    "    # Initialize subplots\n",
    "    fig, axes = plt.subplots(2, len(lambda_values), figsize=(30, 7))\n",
    "    \n",
    "    for i, alpha in enumerate(lambda_values):\n",
    "            # Randomly split sensed pixels into train and test sets\n",
    "            sensed_pixels = np.argwhere(~np.isnan(corrupted_block))\n",
    "            np.random.shuffle(sensed_pixels)\n",
    "            \n",
    "            test_pixels = sensed_pixels[:num_testing]\n",
    "            train_pixels = sensed_pixels[num_testing:]\n",
    "\n",
    "            train_mask = np.zeros_like(corrupted_block, dtype=bool)\n",
    "            train_mask[tuple(train_pixels.T)] = True\n",
    "            \n",
    "            train_block = corrupted_block.copy()\n",
    "            train_block[~train_mask] = np.nan\n",
    "            \n",
    "            # Apply LASSO reconstruction\n",
    "            reconstructed_block, kappa_est = apply_lasso_reconstruction(B, train_block, train_mask, alpha)\n",
    "            reconstructed_block = (reconstructed_block - reconstructed_block.min()) / (reconstructed_block.max() - reconstructed_block.min()) * 255\n",
    "            \n",
    "            # Display original corrupted and reconstructed images\n",
    "            axes[0, i].imshow(corrupted_block, cmap='gray')\n",
    "            axes[0, i].set_title(f\"Corrupted\\nλ={alpha:.1e}\")\n",
    "            axes[0, i].axis(\"off\")\n",
    "            \n",
    "            axes[1, i].imshow(reconstructed_block, cmap='gray')\n",
    "            axes[1, i].set_title(f\"Reconstructed\\nλ={alpha:.1e}\")\n",
    "            axes[1, i].axis(\"off\")\n",
    "\n",
    "    plt.suptitle(\"Comparison of Corrupted vs Reconstructed Image for Different λ\")\n",
    "    plt.show()\n",
    "    \n",
    "    return kappa_est\n"
   ]
  },
  {
   "cell_type": "code",
   "execution_count": 337,
   "metadata": {},
   "outputs": [],
   "source": [
    "def display_model_weight(kappa_est):\n",
    "    fig, ax = plt.subplots(figsize=(8, 5))\n",
    "    ax.stem(range(len(kappa_est)), kappa_est, use_line_collection=True)\n",
    "    ax.set_xlabel(\"Basis Vector Index\")\n",
    "    ax.set_ylabel(\"Weight Magnitude\")\n",
    "    ax.set_title(\"Model Weights for Selected λ\")\n",
    "    plt.show()"
   ]
  },
  {
   "cell_type": "code",
   "execution_count": 338,
   "metadata": {},
   "outputs": [],
   "source": [
    "# Function display the original block vs the reconstructed block\n",
    "def display_reconstructed(original_block, reconstructed_block):\n",
    "    fig, ax = plt.subplots(1, 2, figsize=(8, 4))\n",
    "    ax[0].imshow(original_block, cmap='gray')\n",
    "    ax[0].set_title(\"Original Block\")\n",
    "    ax[1].imshow(reconstructed_block, cmap='gray')\n",
    "    ax[1].set_title(\"Reconstructed Block\")\n",
    "    plt.show()"
   ]
  },
  {
   "cell_type": "code",
   "execution_count": 339,
   "metadata": {},
   "outputs": [],
   "source": [
    "# Function to calculate the MSE between the original and reconstructed block\n",
    "def calculate_mse(original_block, reconstructed_block):\n",
    "    mse = mean_squared_error(original_block.flatten(order='F'), reconstructed_block.flatten(order='F'))\n",
    "    print(f\"Mean Squared Error (MSE) between original and reconstructed image chip: {mse:.4f}\")"
   ]
  },
  {
   "cell_type": "code",
   "execution_count": 340,
   "metadata": {},
   "outputs": [],
   "source": [
    "# Load image\n",
    "image_path = '../data/fishing_boat.bmp'\n",
    "image = Image.open(image_path).convert('L')\n",
    "\n",
    "# Convert the image to a numpy array\n",
    "image_array = np.array(image)"
   ]
  },
  {
   "cell_type": "code",
   "execution_count": 341,
   "metadata": {},
   "outputs": [],
   "source": [
    "# Display the 8x8 block with the top-left pixel at (x, y) = (x*, y*)\n",
    "x_star = 8 * (4-1) + 1\n",
    "y_star = 8 * (2-1) + 1\n",
    "\n",
    "# Get the 8x8 block\n",
    "block_size = 8\n",
    "x_start = x_star - 1\n",
    "y_start = y_star - 1\n",
    "\n",
    "# Get the block end coordinates\n",
    "x_end = min(x_start + block_size, image_array.shape[0])\n",
    "y_end = min(y_start + block_size, image_array.shape[1])\n",
    "\n",
    "# Gets the 8x8 block\n",
    "block = image_array[x_start:x_end, y_start:y_end]"
   ]
  },
  {
   "cell_type": "code",
   "execution_count": 342,
   "metadata": {},
   "outputs": [],
   "source": [
    "# Generate the 8x8 corrupted image block (chip)\n",
    "S = 30\n",
    "corrupted_block, mask = generate_corrupted(S, block_size=8, block=block)"
   ]
  },
  {
   "cell_type": "code",
   "execution_count": 343,
   "metadata": {},
   "outputs": [],
   "source": [
    "# Get the vector matrix\n",
    "B = get_basis_vector_matrix(K=8)"
   ]
  },
  {
   "cell_type": "code",
   "execution_count": 346,
   "metadata": {},
   "outputs": [
    {
     "name": "stderr",
     "output_type": "stream",
     "text": [
      "/home/ren11/image-recovery/.venv/lib/python3.10/site-packages/sklearn/linear_model/_coordinate_descent.py:695: ConvergenceWarning: Objective did not converge. You might want to increase the number of iterations, check the scale of the features or consider increasing regularisation. Duality gap: 2.992e-01, tolerance: 2.857e-01\n",
      "  model = cd_fast.enet_coordinate_descent(\n",
      "/home/ren11/image-recovery/.venv/lib/python3.10/site-packages/sklearn/linear_model/_coordinate_descent.py:695: ConvergenceWarning: Objective did not converge. You might want to increase the number of iterations, check the scale of the features or consider increasing regularisation. Duality gap: 4.043e-01, tolerance: 2.732e-01\n",
      "  model = cd_fast.enet_coordinate_descent(\n",
      "/tmp/ipykernel_410562/3973496153.py:25: RuntimeWarning: invalid value encountered in divide\n",
      "  reconstructed_block = (reconstructed_block - reconstructed_block.min()) / (reconstructed_block.max() - reconstructed_block.min()) * 255\n",
      "/tmp/ipykernel_410562/3973496153.py:25: RuntimeWarning: invalid value encountered in divide\n",
      "  reconstructed_block = (reconstructed_block - reconstructed_block.min()) / (reconstructed_block.max() - reconstructed_block.min()) * 255\n",
      "/tmp/ipykernel_410562/3973496153.py:25: RuntimeWarning: invalid value encountered in divide\n",
      "  reconstructed_block = (reconstructed_block - reconstructed_block.min()) / (reconstructed_block.max() - reconstructed_block.min()) * 255\n"
     ]
    },
    {
     "data": {
      "image/png": "[encoded data removed]",
      "text/plain": [
       "<Figure size 3000x700 with 22 Axes>"
      ]
     },
     "metadata": {},
     "output_type": "display_data"
    },
    {
     "data": {
      "text/plain": [
       "array([ 0., -0.,  0.,  0., -0.,  0., -0., -0.,  0., -0., -0., -0., -0.,\n",
       "        0.,  0., -0.,  0., -0., -0.,  0.,  0., -0., -0., -0., -0.,  0.,\n",
       "        0., -0.,  0., -0., -0.,  0.,  0.,  0., -0., -0., -0.,  0.,  0.,\n",
       "        0., -0., -0., -0.,  0., -0., -0.,  0., -0.,  0.,  0., -0.,  0.,\n",
       "       -0., -0.,  0.,  0., -0.,  0.,  0., -0.,  0.,  0., -0., -0.])"
      ]
     },
     "execution_count": 346,
     "metadata": {},
     "output_type": "execute_result"
    }
   ],
   "source": [
    "cross_validation_random(S, 30, corrupted_block, B)"
   ]
  },
  {
   "cell_type": "code",
   "execution_count": null,
   "metadata": {},
   "outputs": [],
   "source": []
  }
 ],
 "metadata": {
  "kernelspec": {
   "display_name": ".venv",
   "language": "python",
   "name": "python3"
  },
  "language_info": {
   "codemirror_mode": {
    "name": "ipython",
    "version": 3
   },
   "file_extension": ".py",
   "mimetype": "text/x-python",
   "name": "python",
   "nbconvert_exporter": "python",
   "pygments_lexer": "ipython3",
   "version": "3.10.12"
  }
 },
 "nbformat": 4,
 "nbformat_minor": 2
}
